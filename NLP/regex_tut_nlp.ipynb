{
 "cells": [
  {
   "cell_type": "code",
   "execution_count": 4,
   "metadata": {},
   "outputs": [],
   "source": [
    "import re"
   ]
  },
  {
   "cell_type": "code",
   "execution_count": 66,
   "metadata": {},
   "outputs": [],
   "source": [
    "chat1 = 'codebasics: you ask lot of questions 😠  1235678912, abc@xyz.com, 9995678912'\n",
    "chat2 = 'codebasics: here it is: (123)-567-8912, abX_82@xyz.com'\n",
    "chat3 = 'codebasics: yes, phone: 1235678912, email: abc@xyz.io'"
   ]
  },
  {
   "cell_type": "code",
   "execution_count": 72,
   "metadata": {},
   "outputs": [
    {
     "name": "stdout",
     "output_type": "stream",
     "text": [
      "['abc@xyz.com']\n"
     ]
    }
   ],
   "source": [
    "phone_pattern = r'\\d{10}|\\(\\d{3}\\)-\\d{3}-\\d{4}'\n",
    "phone_matches = re.findall(phone_pattern,chat3)\n",
    "# print(phone_matches)\n",
    "\n",
    "email_pattern = r'[a-z0-9A-Z_]*@[a-z0-9A-Z]*\\.[a-zA-Z]*'\n",
    "email_matches = re.findall(email_pattern,chat1)\n",
    "print(email_matches)"
   ]
  },
  {
   "cell_type": "code",
   "execution_count": 86,
   "metadata": {},
   "outputs": [
    {
     "name": "stdout",
     "output_type": "stream",
     "text": [
      "['412889912']\n"
     ]
    }
   ],
   "source": [
    "chat4='codebasics: Hello, I am having an issue with my order # 412889912'\n",
    "chat5='codebasics: I have a problem with my order number 412889912'\n",
    "chat6='codebasics: My order 412889912 is having an issue, I was charged 300$ when online it says 280$'\n",
    "\n",
    "order_nu_pattern = r'order[^\\d]*(\\d*)'\n",
    "order_nu_matches = re.findall(order_nu_pattern,chat6)\n",
    "print(order_nu_matches)"
   ]
  },
  {
   "cell_type": "code",
   "execution_count": 87,
   "metadata": {},
   "outputs": [],
   "source": [
    "text = '''\n",
    "Born\tElon Reeve Musk\n",
    "June 28, 1971 (age 53)\n",
    "Pretoria, Transvaal, South Africa\n",
    "Citizenship\t\n",
    "South Africa\n",
    "Canada (from 1989)\n",
    "United States (from 2002)\n",
    "Education\tUniversity of Pennsylvania (BA, BS)\n",
    "Occupation\tBusinessman\n",
    "Title\t\n",
    "Founder, CEO, and chief engineer of SpaceX\n",
    "CEO and product architect of Tesla, Inc.\n",
    "Owner, CTO and executive chairman of X (formerly Twitter)\n",
    "Founder of The Boring Company, X Corp., and xAI\n",
    "Co-founder of Neuralink, OpenAI, Zip2, and X.com (part of PayPal)\n",
    "President of the Musk Foundation\n",
    "Spouses\t\n",
    "Justine Wilson\n",
    "​\n",
    "​(m. 2000; div. 2008)​\n",
    "Talulah Riley\n",
    "​\n",
    "​(m. 2010; div. 2012)​\n",
    "​\n",
    "​(m. 2013; div. 2016)​\n",
    "Children\t12[1]\n",
    "Parents\t\n",
    "Errol Musk (father)\n",
    "Maye Musk (mother)\n",
    "'''\n"
   ]
  },
  {
   "cell_type": "code",
   "execution_count": 115,
   "metadata": {},
   "outputs": [
    {
     "name": "stdout",
     "output_type": "stream",
     "text": [
      "['53']\n",
      "['\\tElon Reeve Musk']\n",
      "June 28, 1971\n",
      "Pretoria, Transvaal, South Africa\n"
     ]
    }
   ],
   "source": [
    "age_pattern = r'age (\\d*)'\n",
    "age_matches = re.findall(age_pattern,text)\n",
    "print(age_matches)\n",
    "\n",
    "name_pattern = r'Born(.*)\\n'\n",
    "name_matches = re.findall(name_pattern,text)\n",
    "print(name_matches)\n",
    "\n",
    "dob_pattern = r'Born.*\\n(.*)\\(age'\n",
    "dob_matches = re.findall(dob_pattern,text)\n",
    "print(dob_matches[0].strip())\n",
    "\n",
    "location_pattern = r'\\(age.*\\n(.*)'\n",
    "location_matches = re.findall(location_pattern,text)\n",
    "print(location_matches[0])"
   ]
  },
  {
   "cell_type": "code",
   "execution_count": 116,
   "metadata": {},
   "outputs": [],
   "source": [
    "def get_pattern_match(pattern,text):\n",
    "    matches = re.findall(pattern,text)\n",
    "    if matches:\n",
    "        return matches[0]"
   ]
  },
  {
   "cell_type": "code",
   "execution_count": 117,
   "metadata": {},
   "outputs": [
    {
     "data": {
      "text/plain": [
       "'Pretoria, Transvaal, South Africa'"
      ]
     },
     "execution_count": 117,
     "metadata": {},
     "output_type": "execute_result"
    }
   ],
   "source": [
    "get_pattern_match(r'\\(age.*\\n(.*)',text)\n"
   ]
  },
  {
   "cell_type": "code",
   "execution_count": 132,
   "metadata": {},
   "outputs": [],
   "source": [
    "def get_personal_information(text):\n",
    "    age = get_pattern_match(r'age (\\d+)',text)\n",
    "    full_name = get_pattern_match(r'Born(.*)\\n',text)\n",
    "    birth_date = get_pattern_match(r'Born.*\\n(.*)\\(age',text)\n",
    "    birth_place = get_pattern_match(r'\\(age.*\\n(.*)',text)\n",
    "    return [age,full_name,birth_date,birth_place]"
   ]
  },
  {
   "cell_type": "code",
   "execution_count": 135,
   "metadata": {},
   "outputs": [
    {
     "data": {
      "text/plain": [
       "['53',\n",
       " '\\tElon Reeve Musk',\n",
       " 'June 28, 1971 ',\n",
       " 'Pretoria, Transvaal, South Africa']"
      ]
     },
     "execution_count": 135,
     "metadata": {},
     "output_type": "execute_result"
    }
   ],
   "source": [
    "get_personal_information(text)"
   ]
  }
 ],
 "metadata": {
  "kernelspec": {
   "display_name": "myenv",
   "language": "python",
   "name": "python3"
  },
  "language_info": {
   "codemirror_mode": {
    "name": "ipython",
    "version": 3
   },
   "file_extension": ".py",
   "mimetype": "text/x-python",
   "name": "python",
   "nbconvert_exporter": "python",
   "pygments_lexer": "ipython3",
   "version": "3.12.3"
  }
 },
 "nbformat": 4,
 "nbformat_minor": 2
}
